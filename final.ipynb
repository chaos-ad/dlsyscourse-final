{
 "cells": [
  {
   "cell_type": "markdown",
   "metadata": {},
   "source": [
    "# 10-714 Final Project\n",
    "\n",
    "In this final project I will implement DLRM model (https://arxiv.org/abs/1906.00091) and training it on the Criteo 1TB Click Logs Dataset (https://labs.criteo.com/2013/12/download-terabyte-click-logs/).\n",
    "\n",
    "As a contribution to the needle framework, I will be implementing (hopefully in a reusable manner) the following building blocks:\n",
    "\n",
    "- hashing trick that would optimize memory footprint of the `Embedding` layer\n",
    "- data parallel distributed training using ray.io"
   ]
  },
  {
   "cell_type": "code",
   "execution_count": null,
   "metadata": {},
   "outputs": [],
   "source": [
    "# # Code to set up the assignment\n",
    "# from google.colab import drive\n",
    "# drive.mount('/content/drive')\n",
    "# %cd /content/drive/MyDrive/\n",
    "# !mkdir -p 10714\n",
    "# %cd /content/drive/MyDrive/10714\n",
    "# !git clone http://github.com/chaos-ad/dlsyscourse-final.git\n",
    "# %cd /content/drive/MyDrive/10714/final\n",
    "\n",
    "# !pip3 install --upgrade --no-deps git+https://github.com/dlsys10714/mugrade.git\n",
    "# !pip3 install pybind11"
   ]
  },
  {
   "cell_type": "code",
   "execution_count": 7,
   "metadata": {},
   "outputs": [
    {
     "data": {
      "text/plain": [
       "'/home/ec2-user/SageMaker/code/dlsyscourse-homework/final'"
      ]
     },
     "execution_count": 7,
     "metadata": {},
     "output_type": "execute_result"
    }
   ],
   "source": [
    "%pwd"
   ]
  },
  {
   "cell_type": "code",
   "execution_count": 8,
   "metadata": {},
   "outputs": [],
   "source": [
    "!pip install --quiet -r requirements.txt"
   ]
  },
  {
   "cell_type": "code",
   "execution_count": 9,
   "metadata": {
    "notebookRunGroups": {
     "groupValue": "1"
    }
   },
   "outputs": [],
   "source": [
    "!make 2>&1 >/dev/null"
   ]
  },
  {
   "cell_type": "code",
   "execution_count": 10,
   "metadata": {},
   "outputs": [],
   "source": [
    "import sys\n",
    "import logging\n",
    "import dotenv"
   ]
  },
  {
   "cell_type": "code",
   "execution_count": 11,
   "metadata": {},
   "outputs": [],
   "source": [
    "sys.path.append('./python')\n",
    "_ = dotenv.load_dotenv(dotenv_path=\"conf/dev.env\")"
   ]
  },
  {
   "cell_type": "code",
   "execution_count": 12,
   "metadata": {},
   "outputs": [
    {
     "name": "stdout",
     "output_type": "stream",
     "text": [
      "The autoreload extension is already loaded. To reload it, use:\n",
      "  %reload_ext autoreload\n"
     ]
    }
   ],
   "source": [
    "import apps.etl\n",
    "import apps.utils.aws\n",
    "import apps.utils.common\n",
    "\n",
    "## Hot code reloading, useful during dev:\n",
    "%load_ext autoreload\n",
    "%autoreload 1\n",
    "%aimport apps.etl\n",
    "%aimport apps.utils.common\n",
    "%aimport apps.utils.aws.s3\n",
    "%aimport apps.utils.aws.athena"
   ]
  },
  {
   "cell_type": "code",
   "execution_count": 13,
   "metadata": {
    "notebookRunGroups": {
     "groupValue": "1"
    }
   },
   "outputs": [],
   "source": [
    "apps.utils.common.setup_logging(config_file=\"conf/logging.yml\")\n",
    "logger = logging.getLogger(\"notebooks.final\")"
   ]
  },
  {
   "cell_type": "markdown",
   "metadata": {},
   "source": [
    "### Download criteo 1TB dataset into S3"
   ]
  },
  {
   "cell_type": "code",
   "execution_count": null,
   "metadata": {},
   "outputs": [],
   "source": [
    "# Run me once to download data to S3 (bucket & prefix are controlled via conf/dev.env, and postfix is an argument defaulting to \"criteo/raw\")\n",
    "# apps.etl.import_criteo_dataset()"
   ]
  },
  {
   "cell_type": "code",
   "execution_count": null,
   "metadata": {},
   "outputs": [],
   "source": [
    "apps.etl.parse_criteo_dataset()"
   ]
  },
  {
   "cell_type": "code",
   "execution_count": null,
   "metadata": {},
   "outputs": [],
   "source": []
  },
  {
   "cell_type": "code",
   "execution_count": null,
   "metadata": {},
   "outputs": [],
   "source": []
  },
  {
   "cell_type": "code",
   "execution_count": null,
   "metadata": {},
   "outputs": [],
   "source": [
    "# import numpy as np\n",
    "# import needle as ndl\n",
    "# from needle import backend_ndarray as nd"
   ]
  },
  {
   "cell_type": "code",
   "execution_count": null,
   "metadata": {},
   "outputs": [],
   "source": [
    "# import needle as ndl\n",
    "# sys.path.append('./apps')\n",
    "# from models import DLRM\n",
    "# # from simple_training import train_ptb, evaluate_ptb\n",
    "\n",
    "# device = ndl.cpu()\n",
    "# # corpus = ndl.data.Corpus(\"data/ptb\")\n",
    "# # train_data = ndl.data.batchify(corpus.train, batch_size=16, device=ndl.cpu(), dtype=\"float32\")\n",
    "\n",
    "# model = DLRM(30, 1000, hidden_size=10, num_layers=2, seq_model='rnn', device=device)\n",
    "# # model = DLRM(30, len(corpus.dictionary), hidden_size=10, num_layers=2, seq_model='rnn', device=device)\n",
    "# # train_ptb(model, train_data, seq_len=1, n_epochs=1, device=device)\n",
    "# # evaluate_ptb(model, train_data, seq_len=40, device=device)"
   ]
  },
  {
   "cell_type": "code",
   "execution_count": null,
   "metadata": {},
   "outputs": [],
   "source": []
  }
 ],
 "metadata": {
  "kernelspec": {
   "display_name": "Python 3.9.15 ('codeserver_py39')",
   "language": "python",
   "name": "python3"
  },
  "language_info": {
   "codemirror_mode": {
    "name": "ipython",
    "version": 3
   },
   "file_extension": ".py",
   "mimetype": "text/x-python",
   "name": "python",
   "nbconvert_exporter": "python",
   "pygments_lexer": "ipython3",
   "version": "3.9.15"
  },
  "vscode": {
   "interpreter": {
    "hash": "aca522a4f3a95a8cc19c0c49aa2b52717208ab4d9caac282bf163cf809ab5536"
   }
  }
 },
 "nbformat": 4,
 "nbformat_minor": 4
}
